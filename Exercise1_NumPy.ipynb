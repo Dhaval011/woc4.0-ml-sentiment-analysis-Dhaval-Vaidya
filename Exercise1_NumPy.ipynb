{
  "nbformat": 4,
  "nbformat_minor": 0,
  "metadata": {
    "colab": {
      "name": "NumPy exercises",
      "provenance": [],
      "collapsed_sections": [],
      "include_colab_link": true
    },
    "kernelspec": {
      "display_name": "Python 3",
      "name": "python3"
    }
  },
  "cells": [
    {
      "cell_type": "markdown",
      "metadata": {
        "id": "view-in-github",
        "colab_type": "text"
      },
      "source": [
        "<a href=\"https://colab.research.google.com/github/Dhaval011/woc4.0-ml-sentiment-analysis-Dhaval-Vaidya/blob/main/Exercise1_NumPy.ipynb\" target=\"_parent\"><img src=\"https://colab.research.google.com/assets/colab-badge.svg\" alt=\"Open In Colab\"/></a>"
      ]
    },
    {
      "cell_type": "code",
      "metadata": {
        "id": "EnhORJMC5NHc"
      },
      "source": [
        "import numpy as np"
      ],
      "execution_count": null,
      "outputs": []
    },
    {
      "cell_type": "markdown",
      "metadata": {
        "id": "dp92tsiV49wM"
      },
      "source": [
        "# Part 1: Creating ndarrays"
      ]
    },
    {
      "cell_type": "markdown",
      "metadata": {
        "id": "kI-sYE8f5L4P"
      },
      "source": [
        "1. Convert the below given list of strings to an int32 NumPy array"
      ]
    },
    {
      "cell_type": "code",
      "metadata": {
        "id": "E_nNMLpu5PE2"
      },
      "source": [
        "slist = ['2.5', '1.25', '0.024','2.999','1024.5']"
      ],
      "execution_count": null,
      "outputs": []
    },
    {
      "cell_type": "code",
      "metadata": {
        "id": "guqHmLhqWxzJ",
        "colab": {
          "base_uri": "https://localhost:8080/"
        },
        "outputId": "6716d669-f71f-490f-eded-84091c649708"
      },
      "source": [
        "slist = np.array(slist)\n",
        "print(slist)"
      ],
      "execution_count": null,
      "outputs": [
        {
          "output_type": "stream",
          "name": "stdout",
          "text": [
            "['2.5' '1.25' '0.024' '2.999' '1024.5']\n"
          ]
        }
      ]
    },
    {
      "cell_type": "markdown",
      "metadata": {
        "id": "6uPLqLMu5Wo0"
      },
      "source": [
        "2. Create an empty 5x5 NumPy matrix"
      ]
    },
    {
      "cell_type": "code",
      "metadata": {
        "id": "cxRRTaVWWvqn",
        "colab": {
          "base_uri": "https://localhost:8080/"
        },
        "outputId": "855b714a-d72f-46ca-ecb5-91b6a757face"
      },
      "source": [
        "X = np.empty([5,5])\n",
        "print(X)"
      ],
      "execution_count": null,
      "outputs": [
        {
          "output_type": "stream",
          "name": "stdout",
          "text": [
            "[[4.65334701e-310 0.00000000e+000 0.00000000e+000 0.00000000e+000\n",
            "  0.00000000e+000]\n",
            " [0.00000000e+000 0.00000000e+000 0.00000000e+000 0.00000000e+000\n",
            "  0.00000000e+000]\n",
            " [0.00000000e+000 0.00000000e+000 0.00000000e+000 0.00000000e+000\n",
            "  0.00000000e+000]\n",
            " [0.00000000e+000 0.00000000e+000 0.00000000e+000 0.00000000e+000\n",
            "  0.00000000e+000]\n",
            " [0.00000000e+000 0.00000000e+000 0.00000000e+000 0.00000000e+000\n",
            "  0.00000000e+000]]\n"
          ]
        }
      ]
    },
    {
      "cell_type": "markdown",
      "metadata": {
        "id": "AOdcEdnA5f3B"
      },
      "source": [
        "# Part 2: Operations between Arrays and Scalars"
      ]
    },
    {
      "cell_type": "markdown",
      "metadata": {
        "id": "tKvPKAct5lT_"
      },
      "source": [
        "3. Create a 1x7 Numpy array whose elements consist of a geometric progression with a = 1 & r = 3, terms are arranged indexwise, for ex"
      ]
    },
    {
      "cell_type": "code",
      "metadata": {
        "id": "m8hVg-mV5mAn"
      },
      "source": [
        "sample_output = [1,3,9,27,81]"
      ],
      "execution_count": 25,
      "outputs": []
    },
    {
      "cell_type": "code",
      "metadata": {
        "id": "yRh4_XudW7YR",
        "colab": {
          "base_uri": "https://localhost:8080/"
        },
        "outputId": "bc16e00c-4c98-4560-afed-c43b6c0d8cb6"
      },
      "source": [
        "Y = np.empty([1,5])\n",
        "Y[0,0] = 1\n",
        "for i in range(1,5):\n",
        "  Y[0,i] = Y[0,i-1]*3\n",
        "\n",
        "Y"
      ],
      "execution_count": 40,
      "outputs": [
        {
          "output_type": "execute_result",
          "data": {
            "text/plain": [
              "array([[ 1.,  3.,  9., 27., 81.]])"
            ]
          },
          "metadata": {},
          "execution_count": 40
        }
      ]
    },
    {
      "cell_type": "markdown",
      "metadata": {
        "id": "olRCl-v8_JR9"
      },
      "source": [
        "4. Transform each of the element of the below matrix according to the below equation\n",
        "\n",
        "    if x is an elements in input matrix, output matrix should have \n",
        "$1/(x^2 + 1)$ in its place\n",
        "\n"
      ]
    },
    {
      "cell_type": "code",
      "metadata": {
        "id": "7ZZoyVXZAq9G"
      },
      "source": [
        "mat = [[1,2,3],[4,5,6]]"
      ],
      "execution_count": 42,
      "outputs": []
    },
    {
      "cell_type": "code",
      "metadata": {
        "id": "qc_muADhXCFh",
        "colab": {
          "base_uri": "https://localhost:8080/"
        },
        "outputId": "621e7e85-8c1a-4f36-ceb6-ffd513cb0e08"
      },
      "source": [
        "mat = 1/((1)+(mat**2))\n",
        "mat"
      ],
      "execution_count": 45,
      "outputs": [
        {
          "output_type": "execute_result",
          "data": {
            "text/plain": [
              "array([[0.8      , 0.8      , 0.6097561],\n",
              "       [0.6097561, 0.6097561, 0.6097561]])"
            ]
          },
          "metadata": {},
          "execution_count": 45
        }
      ]
    },
    {
      "cell_type": "markdown",
      "metadata": {
        "id": "SMuOfjq7DCkH"
      },
      "source": [
        "# Part 3: Basic Indexing and Slicing"
      ]
    },
    {
      "cell_type": "markdown",
      "metadata": {
        "id": "dxqj_uPbEOik"
      },
      "source": [
        "5. Make a 5x5 NumPy array of all zeros and use indexing and broadcasting to modify it such that all the elements not on the border are 1, for example"
      ]
    },
    {
      "cell_type": "code",
      "metadata": {
        "colab": {
          "base_uri": "https://localhost:8080/"
        },
        "id": "5Le5dW3IEh6_",
        "outputId": "35fa378b-b170-4388-8ab7-757c4da750ab"
      },
      "source": [
        "output_sample = np.array([[0,0,0,0,0],[0,1,1,1,0],[0,1,1,1,0],[0,1,1,1,0],[0,0,0,0,0]])\n",
        "output_sample"
      ],
      "execution_count": null,
      "outputs": [
        {
          "output_type": "execute_result",
          "data": {
            "text/plain": [
              "array([[0, 0, 0, 0, 0],\n",
              "       [0, 1, 1, 1, 0],\n",
              "       [0, 1, 1, 1, 0],\n",
              "       [0, 1, 1, 1, 0],\n",
              "       [0, 0, 0, 0, 0]])"
            ]
          },
          "metadata": {
            "tags": []
          },
          "execution_count": 48
        }
      ]
    },
    {
      "cell_type": "code",
      "metadata": {
        "id": "A7jJSywYXIvr",
        "colab": {
          "base_uri": "https://localhost:8080/"
        },
        "outputId": "b5a18478-d568-48bc-81a6-da2b5f177f6c"
      },
      "source": [
        "output_sample = np.zeros([5,5])\n",
        "for i in range(5):\n",
        "  for j in range(5):\n",
        "    if(i!=0 and j!=0 and i!=4 and j!=4):\n",
        "      output_sample[i,j]=1\n",
        "output_sample"
      ],
      "execution_count": null,
      "outputs": [
        {
          "output_type": "execute_result",
          "data": {
            "text/plain": [
              "array([[0., 0., 0., 0., 0.],\n",
              "       [0., 1., 1., 1., 0.],\n",
              "       [0., 1., 1., 1., 0.],\n",
              "       [0., 1., 1., 1., 0.],\n",
              "       [0., 0., 0., 0., 0.]])"
            ]
          },
          "metadata": {},
          "execution_count": 10
        }
      ]
    },
    {
      "cell_type": "markdown",
      "metadata": {
        "id": "K0hJTUXkFdfA"
      },
      "source": [
        "6. Given the 3x3x3, 3-dimensional NumPy array"
      ]
    },
    {
      "cell_type": "code",
      "metadata": {
        "colab": {
          "base_uri": "https://localhost:8080/"
        },
        "id": "POO1yEFNGQnT",
        "outputId": "1031ceca-8f68-40a4-e4ef-27748b05a345"
      },
      "source": [
        "arr = np.arange(27).reshape((3,3,3))\n",
        "arr"
      ],
      "execution_count": null,
      "outputs": [
        {
          "output_type": "execute_result",
          "data": {
            "text/plain": [
              "array([[[ 0,  1,  2],\n",
              "        [ 3,  4,  5],\n",
              "        [ 6,  7,  8]],\n",
              "\n",
              "       [[ 9, 10, 11],\n",
              "        [12, 13, 14],\n",
              "        [15, 16, 17]],\n",
              "\n",
              "       [[18, 19, 20],\n",
              "        [21, 22, 23],\n",
              "        [24, 25, 26]]])"
            ]
          },
          "metadata": {},
          "execution_count": 12
        }
      ]
    },
    {
      "cell_type": "markdown",
      "metadata": {
        "id": "J0VtaaOtG2dH"
      },
      "source": [
        "i. Slice this matrix to contain only second and third rows, first and second columns of the given matrix."
      ]
    },
    {
      "cell_type": "code",
      "source": [
        "sample_output = np.array([[[3,4],[6,7]],[[12,13],[15,16]],[[21,22],[24,25]]])\n",
        "sample_output"
      ],
      "metadata": {
        "colab": {
          "base_uri": "https://localhost:8080/"
        },
        "id": "0NnEUUN-gOB5",
        "outputId": "0be5b11e-1ee3-4258-cc14-9e2c8c32c524"
      },
      "execution_count": null,
      "outputs": [
        {
          "output_type": "execute_result",
          "data": {
            "text/plain": [
              "array([[[ 3,  4],\n",
              "        [ 6,  7]],\n",
              "\n",
              "       [[12, 13],\n",
              "        [15, 16]],\n",
              "\n",
              "       [[21, 22],\n",
              "        [24, 25]]])"
            ]
          },
          "metadata": {},
          "execution_count": 11
        }
      ]
    },
    {
      "cell_type": "code",
      "metadata": {
        "id": "TvzAXsUDXNA7",
        "colab": {
          "base_uri": "https://localhost:8080/"
        },
        "outputId": "df5ef015-ecd9-4de3-976d-10178a9ea6e5"
      },
      "source": [
        "K = arr[0:3,1:3,0:2]\n",
        "K"
      ],
      "execution_count": null,
      "outputs": [
        {
          "output_type": "execute_result",
          "data": {
            "text/plain": [
              "array([[[ 3,  4],\n",
              "        [ 6,  7]],\n",
              "\n",
              "       [[12, 13],\n",
              "        [15, 16]],\n",
              "\n",
              "       [[21, 22],\n",
              "        [24, 25]]])"
            ]
          },
          "metadata": {},
          "execution_count": 18
        }
      ]
    },
    {
      "cell_type": "markdown",
      "metadata": {
        "id": "NBGc_zTdHxWD"
      },
      "source": [
        "ii. Output a two dimensional matrix as shown below"
      ]
    },
    {
      "cell_type": "code",
      "metadata": {
        "colab": {
          "base_uri": "https://localhost:8080/"
        },
        "id": "Y2WOfAhGH-O7",
        "outputId": "6ea3c371-7dc6-453b-c37a-211ed2fafcf2"
      },
      "source": [
        "sample_output = np.array([[0,3,6],[9,12,15],[18,21,24]])\n",
        "sample_output"
      ],
      "execution_count": null,
      "outputs": [
        {
          "output_type": "execute_result",
          "data": {
            "text/plain": [
              "array([[ 0,  3,  6],\n",
              "       [ 9, 12, 15],\n",
              "       [18, 21, 24]])"
            ]
          },
          "metadata": {},
          "execution_count": 19
        }
      ]
    },
    {
      "cell_type": "code",
      "metadata": {
        "id": "4PmA4j3cXVfe",
        "colab": {
          "base_uri": "https://localhost:8080/"
        },
        "outputId": "7841c335-f83f-413d-e0c8-7c06c4f9145f"
      },
      "source": [
        "\n",
        "L[0] = arr[0:1,0:3,0:1]\n",
        "L[1] = arr[1:2,0:3,0:1]\n",
        "L[2] = arr[2:3,0:3,0:1]\n",
        "L"
      ],
      "execution_count": null,
      "outputs": [
        {
          "output_type": "execute_result",
          "data": {
            "text/plain": [
              "array([[[ 0],\n",
              "        [ 3],\n",
              "        [ 6]],\n",
              "\n",
              "       [[ 9],\n",
              "        [12],\n",
              "        [15]],\n",
              "\n",
              "       [[18],\n",
              "        [21],\n",
              "        [24]]])"
            ]
          },
          "metadata": {},
          "execution_count": 21
        }
      ]
    },
    {
      "cell_type": "markdown",
      "metadata": {
        "id": "ARJHpbXiIe5p"
      },
      "source": [
        "# Part 4: Boolean Indexing"
      ]
    },
    {
      "cell_type": "markdown",
      "metadata": {
        "id": "evJTyDSOIpcT"
      },
      "source": [
        "7. Given the following array, modify it such that even values stay the same and output contains 0s instead of odd values"
      ]
    },
    {
      "cell_type": "code",
      "metadata": {
        "colab": {
          "base_uri": "https://localhost:8080/"
        },
        "id": "aCzMmII5I3OV",
        "outputId": "0ac77d13-d500-4e8a-b7c0-e06e2f2f1171"
      },
      "source": [
        "arr = np.arange(9).reshape((3,3))\n",
        "arr"
      ],
      "execution_count": null,
      "outputs": [
        {
          "output_type": "execute_result",
          "data": {
            "text/plain": [
              "array([[0, 1, 2],\n",
              "       [3, 4, 5],\n",
              "       [6, 7, 8]])"
            ]
          },
          "metadata": {},
          "execution_count": 22
        }
      ]
    },
    {
      "cell_type": "code",
      "metadata": {
        "colab": {
          "base_uri": "https://localhost:8080/"
        },
        "id": "cUYDN-utI631",
        "outputId": "9d7df5b9-7e81-4a26-850d-55bbf44459dd"
      },
      "source": [
        "sample_output = np.array([[0,0,2],[0,4,0],[6,0,8]])\n",
        "sample_output"
      ],
      "execution_count": null,
      "outputs": [
        {
          "output_type": "execute_result",
          "data": {
            "text/plain": [
              "array([[0, 0, 2],\n",
              "       [0, 4, 0],\n",
              "       [6, 0, 8]])"
            ]
          },
          "metadata": {},
          "execution_count": 23
        }
      ]
    },
    {
      "cell_type": "code",
      "metadata": {
        "id": "h2Z4fsdMXanz",
        "colab": {
          "base_uri": "https://localhost:8080/"
        },
        "outputId": "8bd59a7a-020e-45af-f0f4-47b242f1f276"
      },
      "source": [
        "for i in range(3):\n",
        "  for j in range(3):\n",
        "    if(arr[i,j]%2!=0):\n",
        "      arr[i,j]=0\n",
        "\n",
        "arr"
      ],
      "execution_count": null,
      "outputs": [
        {
          "output_type": "execute_result",
          "data": {
            "text/plain": [
              "array([[0, 0, 2],\n",
              "       [0, 4, 0],\n",
              "       [6, 0, 8]])"
            ]
          },
          "metadata": {},
          "execution_count": 24
        }
      ]
    },
    {
      "cell_type": "markdown",
      "metadata": {
        "id": "ldtjYhuINJTS"
      },
      "source": [
        "# Part 5: Fancy Indexing"
      ]
    },
    {
      "cell_type": "markdown",
      "metadata": {
        "id": "MuId5CADOEil"
      },
      "source": [
        "8. For the given matrix, use fancy indexing to output a 2d matrix consisting all the even elements of the given matrix"
      ]
    },
    {
      "cell_type": "code",
      "metadata": {
        "colab": {
          "base_uri": "https://localhost:8080/"
        },
        "id": "OTq0propOlxk",
        "outputId": "1803dc0c-7dde-462a-c009-16bea5e340dd"
      },
      "source": [
        "arr = np.arange(32).reshape((8, 4))\n",
        "arr"
      ],
      "execution_count": 54,
      "outputs": [
        {
          "output_type": "execute_result",
          "data": {
            "text/plain": [
              "array([[ 0,  1,  2,  3],\n",
              "       [ 4,  5,  6,  7],\n",
              "       [ 8,  9, 10, 11],\n",
              "       [12, 13, 14, 15],\n",
              "       [16, 17, 18, 19],\n",
              "       [20, 21, 22, 23],\n",
              "       [24, 25, 26, 27],\n",
              "       [28, 29, 30, 31]])"
            ]
          },
          "metadata": {},
          "execution_count": 54
        }
      ]
    },
    {
      "cell_type": "code",
      "metadata": {
        "colab": {
          "base_uri": "https://localhost:8080/"
        },
        "id": "ghhE7MRVOrqX",
        "outputId": "9a6ac375-61fc-42cc-8b15-05d5748eae2f"
      },
      "source": [
        "sample_output = np.array([[ 0,  2],\n",
        "       [ 4,  6],\n",
        "       [ 8, 10],\n",
        "       [12, 14],\n",
        "       [16, 18],\n",
        "       [20, 22],\n",
        "       [24, 26],\n",
        "       [28, 30]])\n",
        "sample_output"
      ],
      "execution_count": 51,
      "outputs": [
        {
          "output_type": "execute_result",
          "data": {
            "text/plain": [
              "array([[ 0,  2],\n",
              "       [ 4,  6],\n",
              "       [ 8, 10],\n",
              "       [12, 14],\n",
              "       [16, 18],\n",
              "       [20, 22],\n",
              "       [24, 26],\n",
              "       [28, 30]])"
            ]
          },
          "metadata": {},
          "execution_count": 51
        }
      ]
    },
    {
      "cell_type": "code",
      "metadata": {
        "id": "HOPNWQLRXhqI",
        "colab": {
          "base_uri": "https://localhost:8080/"
        },
        "outputId": "8c712f3e-f359-4541-92f2-9ca5843bf5b6"
      },
      "source": [
        "Z = arr[0:8,[0,2]]\n",
        "Z"
      ],
      "execution_count": 58,
      "outputs": [
        {
          "output_type": "execute_result",
          "data": {
            "text/plain": [
              "array([[ 0,  2],\n",
              "       [ 4,  6],\n",
              "       [ 8, 10],\n",
              "       [12, 14],\n",
              "       [16, 18],\n",
              "       [20, 22],\n",
              "       [24, 26],\n",
              "       [28, 30]])"
            ]
          },
          "metadata": {},
          "execution_count": 58
        }
      ]
    },
    {
      "cell_type": "markdown",
      "metadata": {
        "id": "xj5lX_02SOa5"
      },
      "source": [
        "# Part 6: Expressing Conditional Logic as Array Operations\n",
        "\n"
      ]
    },
    {
      "cell_type": "markdown",
      "metadata": {
        "id": "BeZCKBFmScZW"
      },
      "source": [
        "Given two following matrices, use conditional logic to replace all the odd elements of matrix A with even elements of matrix B"
      ]
    },
    {
      "cell_type": "code",
      "metadata": {
        "colab": {
          "base_uri": "https://localhost:8080/"
        },
        "id": "amG797QGShmQ",
        "outputId": "489d148e-bbac-4bdc-c765-a04a00d350c4"
      },
      "source": [
        "A = np.arange(9).reshape((3,3))\n",
        "B = np.arange(1,10).reshape((3,3))\n",
        "print(A)\n",
        "print(B)"
      ],
      "execution_count": 60,
      "outputs": [
        {
          "output_type": "stream",
          "name": "stdout",
          "text": [
            "[[0 1 2]\n",
            " [3 4 5]\n",
            " [6 7 8]]\n",
            "[[1 2 3]\n",
            " [4 5 6]\n",
            " [7 8 9]]\n"
          ]
        }
      ]
    },
    {
      "cell_type": "code",
      "metadata": {
        "colab": {
          "base_uri": "https://localhost:8080/"
        },
        "id": "LvvT-mkFS9Fo",
        "outputId": "91db18ec-9a91-4660-d531-4414af6fc165"
      },
      "source": [
        "sample_output = np.array([[0, 2, 2],\n",
        "       [4, 4, 6],\n",
        "       [6, 8, 8]])\n",
        "sample_output"
      ],
      "execution_count": null,
      "outputs": [
        {
          "output_type": "execute_result",
          "data": {
            "text/plain": [
              "array([[0, 2, 2],\n",
              "       [4, 4, 6],\n",
              "       [6, 8, 8]])"
            ]
          },
          "metadata": {
            "tags": []
          },
          "execution_count": 95
        }
      ]
    },
    {
      "cell_type": "code",
      "metadata": {
        "id": "NFsduXBoXncx",
        "colab": {
          "base_uri": "https://localhost:8080/"
        },
        "outputId": "0679f199-f1d7-42c7-976b-71298e81cc47"
      },
      "source": [
        "for i in range(3):\n",
        "  for j in range(3):\n",
        "    if A[i,j]%2!=0:\n",
        "      A[i,j]=B[i,j]\n",
        "\n",
        "A\n",
        "    "
      ],
      "execution_count": 61,
      "outputs": [
        {
          "output_type": "execute_result",
          "data": {
            "text/plain": [
              "array([[0, 2, 2],\n",
              "       [4, 4, 6],\n",
              "       [6, 8, 8]])"
            ]
          },
          "metadata": {},
          "execution_count": 61
        }
      ]
    },
    {
      "cell_type": "markdown",
      "metadata": {
        "id": "11T_pvkoUrIb"
      },
      "source": [
        "# Part 7: Linear Algebra"
      ]
    },
    {
      "cell_type": "markdown",
      "metadata": {
        "id": "z44KXIq9Uu8E"
      },
      "source": [
        "Given the following system of equations, solve for x and y using either `numpy.linalg.solve(m1,m2)` or using `inv` and `dot`\n",
        "\n",
        "2x + 5y = 20\n",
        "\n",
        "3x + 6y = 12"
      ]
    },
    {
      "cell_type": "code",
      "metadata": {
        "id": "XVppUEYjp-7a",
        "colab": {
          "base_uri": "https://localhost:8080/"
        },
        "outputId": "3d8fd697-bf52-4e81-fcb3-35c7e7a5e4f1"
      },
      "source": [
        "A = np.array([[2,5],[3,6]])\n",
        "B = np.array([20,12])\n",
        "ans = np.linalg.solve(A,B)\n",
        "ans"
      ],
      "execution_count": 62,
      "outputs": [
        {
          "output_type": "execute_result",
          "data": {
            "text/plain": [
              "array([-20.,  12.])"
            ]
          },
          "metadata": {},
          "execution_count": 62
        }
      ]
    }
  ]
}